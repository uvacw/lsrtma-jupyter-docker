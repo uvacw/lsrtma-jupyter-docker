{
 "cells": [
  {
   "cell_type": "markdown",
   "id": "bca2a1c3-c4ff-4701-a59d-7de475fdf85a",
   "metadata": {},
   "source": [
    "# Welcome to tux01ascor.fmg.uva.nl!\n",
    "\n",
    "Welcome to our server! This server is part of the LSRTMA (Large Scale Real Time Media Analysis) project.\n",
    "\n",
    "Please check out https://tux01ascor.fmg.uva.nl for more information and the rules for using this service.\n",
    "\n",
    "This notebook gives you a short tour on what you can do on this server."
   ]
  },
  {
   "cell_type": "code",
   "execution_count": 2,
   "id": "76356d24-7e4f-448b-8541-6bbf936c1681",
   "metadata": {},
   "outputs": [],
   "source": [
    "# to be added"
   ]
  }
 ],
 "metadata": {
  "kernelspec": {
   "display_name": "Python 3 (ipykernel)",
   "language": "python",
   "name": "python3"
  },
  "language_info": {
   "codemirror_mode": {
    "name": "ipython",
    "version": 3
   },
   "file_extension": ".py",
   "mimetype": "text/x-python",
   "name": "python",
   "nbconvert_exporter": "python",
   "pygments_lexer": "ipython3",
   "version": "3.9.5"
  }
 },
 "nbformat": 4,
 "nbformat_minor": 5
}
